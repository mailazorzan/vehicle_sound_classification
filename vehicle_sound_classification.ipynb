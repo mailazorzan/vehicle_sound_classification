{
  "nbformat": 4,
  "nbformat_minor": 0,
  "metadata": {
    "colab": {
      "name": "vehicle_sound_classification.ipynb",
      "provenance": [],
      "collapsed_sections": [],
      "authorship_tag": "ABX9TyOigl5vlKmoByvrcDxs6wl5",
      "include_colab_link": true
    },
    "kernelspec": {
      "name": "python3",
      "display_name": "Python 3"
    },
    "language_info": {
      "name": "python"
    }
  },
  "cells": [
    {
      "cell_type": "markdown",
      "metadata": {
        "id": "view-in-github",
        "colab_type": "text"
      },
      "source": [
        "<a href=\"https://colab.research.google.com/github/mailazorzan/vehicle_sound_classification/blob/main/vehicle_sound_classification.ipynb\" target=\"_parent\"><img src=\"https://colab.research.google.com/assets/colab-badge.svg\" alt=\"Open In Colab\"/></a>"
      ]
    },
    {
      "cell_type": "markdown",
      "source": [
        "#Vehicle Sound Classification"
      ],
      "metadata": {
        "id": "kJg5k0lrkMVd"
      }
    },
    {
      "cell_type": "code",
      "source": [
        "from google.colab import drive\n",
        "drive.mount('/content/drive')"
      ],
      "metadata": {
        "colab": {
          "base_uri": "https://localhost:8080/"
        },
        "id": "nUYX3zVdkjdC",
        "outputId": "e5126473-9a76-4ae0-aea1-5816a08f7c2d"
      },
      "execution_count": 1,
      "outputs": [
        {
          "output_type": "stream",
          "name": "stdout",
          "text": [
            "Drive already mounted at /content/drive; to attempt to forcibly remount, call drive.mount(\"/content/drive\", force_remount=True).\n"
          ]
        }
      ]
    },
    {
      "cell_type": "code",
      "execution_count": 2,
      "metadata": {
        "id": "edlEUm9ekIH5"
      },
      "outputs": [],
      "source": [
        "# Bibliotecas para Processamento de Audio\n",
        "import librosa\n",
        "from scipy import signal\n",
        "# Biblioteca para tocar o Audio\n",
        "import IPython.display as ipd\n",
        "import numpy as np\n",
        "import matplotlib.pyplot as plt\n",
        "\n",
        "from keras.layers import *\n",
        "from keras.models import *\n",
        "from keras.callbacks import *\n",
        "from keras import backend as K"
      ]
    },
    {
      "cell_type": "code",
      "source": [
        "path='/content/drive/MyDrive/Portfolio/Vehicle Sound Classification/data/emergency.wav'\n",
        "emergency,sample_rate    = librosa.load(path, sr = 16000)\n",
        "path='/content/drive/MyDrive/Portfolio/Vehicle Sound Classification/data/non_emergency.wav'\n",
        "non_emergency,sample_rate= librosa.load(path, sr =16000)"
      ],
      "metadata": {
        "id": "php6w7XvkaR7"
      },
      "execution_count": 3,
      "outputs": []
    },
    {
      "cell_type": "markdown",
      "source": [
        "*  **sr**: taxa de amostragem (sampling rate), ou número de amostras por \n",
        "segundo.\n",
        "\n",
        "Usamos a taxa de *16000* para ler os dois áudios e a duração desses áudios é em torno de 23 e 27 minutos.\n",
        "\n",
        "Para treinar um modelo de deep learning estamos processando o conjunto de audio em chunks para podermos classificá-los."
      ],
      "metadata": {
        "id": "PH6_MyYK6nTc"
      }
    },
    {
      "cell_type": "code",
      "source": [
        "duration1 = librosa.get_duration(emergency,sr=16000)\n",
        "duration2 = librosa.get_duration(non_emergency,sr=16000)\n",
        "print(\"Duracao de uma Emergencia e uma Nao Emergencia (em min):\",duration1/60,duration2/60)"
      ],
      "metadata": {
        "colab": {
          "base_uri": "https://localhost:8080/"
        },
        "id": "oTkCBjQ_loIp",
        "outputId": "b946f146-0844-40a3-cce7-211e92ace7c1"
      },
      "execution_count": 4,
      "outputs": [
        {
          "output_type": "stream",
          "name": "stdout",
          "text": [
            "Duracao de uma Emergencia e uma Nao Emergencia (em min): 22.920290625 27.160834375\n"
          ]
        }
      ]
    },
    {
      "cell_type": "code",
      "source": [
        "def prepare_data(samples, num_of_samples=32000, num_of_common=16000):\n",
        "  data=[]\n",
        "  for offset in range(0, len(samples), num_of_common):\n",
        "    start = offset\n",
        "    end   = offset + num_of_samples\n",
        "    chunk = samples[start:end]\n",
        "    if(len(chunk)==32000):\n",
        "      data.append(chunk)\n",
        "  return data"
      ],
      "metadata": {
        "id": "uTYTw4nEloFC"
      },
      "execution_count": 5,
      "outputs": []
    },
    {
      "cell_type": "code",
      "source": [
        "emergency = prepare_data(emergency)\n",
        "non_emergency = prepare_data(non_emergency)"
      ],
      "metadata": {
        "id": "JQEi2UecpExP"
      },
      "execution_count": 6,
      "outputs": []
    },
    {
      "cell_type": "code",
      "source": [
        "print(\"Número de Chunks de Emergência e Não Emergência:\",len(emergency),len(non_emergency))"
      ],
      "metadata": {
        "colab": {
          "base_uri": "https://localhost:8080/"
        },
        "id": "lFjhKmAcln9q",
        "outputId": "c23d29a9-4367-4eb9-a737-4cdcb67acefc"
      },
      "execution_count": 7,
      "outputs": [
        {
          "output_type": "stream",
          "name": "stdout",
          "text": [
            "Número de Chunks de Emergência e Não Emergência: 1374 1628\n"
          ]
        }
      ]
    },
    {
      "cell_type": "code",
      "source": [
        "plt.figure(figsize=(14,4))\n",
        "plt.plot(np.linspace(0, 2, num=32000),emergency[103])\n",
        "plt.title('Emergência')\n",
        "plt.xlabel('Tempo')\n",
        "plt.ylabel('Amplitude')\n",
        "plt.figure(figsize=(14,4))\n",
        "plt.plot(np.linspace(0, 2, num=32000),non_emergency[102])\n",
        "plt.title('Não Emergência')\n",
        "plt.xlabel('Tempo')\n",
        "plt.ylabel('Amplitude')"
      ],
      "metadata": {
        "colab": {
          "base_uri": "https://localhost:8080/",
          "height": 590
        },
        "id": "3sJ1WMKilnv_",
        "outputId": "fa56b99b-05e6-4ecd-9ac1-e9b9d9058ed1"
      },
      "execution_count": 8,
      "outputs": [
        {
          "output_type": "execute_result",
          "data": {
            "text/plain": [
              "Text(0, 0.5, 'Amplitude')"
            ]
          },
          "metadata": {},
          "execution_count": 8
        },
        {
          "output_type": "display_data",
          "data": {
            "image/png": "[encoded data removed]",
            "text/plain": [
              "<Figure size 1008x288 with 1 Axes>"
            ]
          },
          "metadata": {
            "needs_background": "light"
          }
        },
        {
          "output_type": "display_data",
          "data": {
            "image/png": "[encoded data removed]",
            "text/plain": [
              "<Figure size 1008x288 with 1 Axes>"
            ]
          },
          "metadata": {
            "needs_background": "light"
          }
        }
      ]
    },
    {
      "cell_type": "code",
      "source": [
        "audio = np.concatenate([emergency,non_emergency])\n",
        "labels1 = np.zeros(len(emergency))\n",
        "labels2 = np.ones(len(non_emergency))\n",
        "labels = np.concatenate([labels1,labels2])\n",
        "print(audio.shape)"
      ],
      "metadata": {
        "colab": {
          "base_uri": "https://localhost:8080/"
        },
        "id": "SaXVjfZc3ofl",
        "outputId": "a5f26160-c65a-4721-f052-6aae2f434e3e"
      },
      "execution_count": 9,
      "outputs": [
        {
          "output_type": "stream",
          "name": "stdout",
          "text": [
            "(3002, 32000)\n"
          ]
        }
      ]
    },
    {
      "cell_type": "code",
      "source": [
        "from sklearn.model_selection import train_test_split\n",
        "x_tr, x_val, y_tr, y_val = train_test_split(np.array(audio),np.array(labels),\n",
        "                                            stratify=labels,test_size = 0.1,\n",
        "                                            random_state=777,shuffle=True)"
      ],
      "metadata": {
        "id": "bb1PhmtC3ob_"
      },
      "execution_count": 10,
      "outputs": []
    },
    {
      "cell_type": "code",
      "source": [
        "x_tr_features  = x_tr.reshape(len(x_tr),-1,1)\n",
        "x_val_features = x_val.reshape(len(x_val),-1,1)\n",
        "print(\"Reshaped Array Size\",x_tr_features.shape)"
      ],
      "metadata": {
        "colab": {
          "base_uri": "https://localhost:8080/"
        },
        "id": "XC04I-Nx4yrW",
        "outputId": "fa665226-3765-4ce8-b95e-4cf5ea2ea1af"
      },
      "execution_count": 11,
      "outputs": [
        {
          "output_type": "stream",
          "name": "stdout",
          "text": [
            "Reshaped Array Size (2701, 32000, 1)\n"
          ]
        }
      ]
    },
    {
      "cell_type": "markdown",
      "source": [
        "# Usando CNN"
      ],
      "metadata": {
        "id": "QoaE298u6Pks"
      }
    },
    {
      "cell_type": "code",
      "source": [
        "def cnn(x_tr):\n",
        "  K.clear_session()\n",
        "  inputs = Input(shape=(x_tr.shape[1],x_tr.shape[2]))\n",
        "  #First Conv1D layer\n",
        "  conv = Conv1D(8, 13, padding='same', activation='relu')(inputs)\n",
        "  conv = Dropout(0.3)(conv)\n",
        "  conv = MaxPooling1D(2)(conv)\n",
        "  #Second Conv1D layer\n",
        "  conv = Conv1D(16, 11, padding='same', activation='relu')(conv)\n",
        "  conv = Dropout(0.3)(conv)\n",
        "  conv = MaxPooling1D(2)(conv)\n",
        "  #MaxPooling 1D\n",
        "  conv = GlobalMaxPool1D()(conv)\n",
        "  #Dense Layer \n",
        "  conv = Dense(16, activation='relu')(conv)\n",
        "  outputs = Dense(1,activation='sigmoid')(conv)\n",
        "  model = Model(inputs, outputs)\n",
        "  model.compile(loss='binary_crossentropy',optimizer='adam',metrics=['acc'])\n",
        "  model_checkpoint = ModelCheckpoint('best_model.hdf5', monitor='val_acc',\n",
        "                                 verbose=1, save_best_only=True, mode='max')\n",
        "  return model, model_checkpoint\n",
        "model, model_checkpoint = cnn(x_tr_features)"
      ],
      "metadata": {
        "id": "yhRD3Oox3oZO"
      },
      "execution_count": 12,
      "outputs": []
    },
    {
      "cell_type": "code",
      "source": [
        "model.summary()"
      ],
      "metadata": {
        "colab": {
          "base_uri": "https://localhost:8080/"
        },
        "id": "ZoVGZEyB3oRi",
        "outputId": "8304fa8e-f117-4d48-e89a-a3cf63cd65c0"
      },
      "execution_count": 13,
      "outputs": [
        {
          "output_type": "stream",
          "name": "stdout",
          "text": [
            "Model: \"model\"\n",
            "_________________________________________________________________\n",
            " Layer (type)                Output Shape              Param #   \n",
            "=================================================================\n",
            " input_1 (InputLayer)        [(None, 32000, 1)]        0         \n",
            "                                                                 \n",
            " conv1d (Conv1D)             (None, 32000, 8)          112       \n",
            "                                                                 \n",
            " dropout (Dropout)           (None, 32000, 8)          0         \n",
            "                                                                 \n",
            " max_pooling1d (MaxPooling1D  (None, 16000, 8)         0         \n",
            " )                                                               \n",
            "                                                                 \n",
            " conv1d_1 (Conv1D)           (None, 16000, 16)         1424      \n",
            "                                                                 \n",
            " dropout_1 (Dropout)         (None, 16000, 16)         0         \n",
            "                                                                 \n",
            " max_pooling1d_1 (MaxPooling  (None, 8000, 16)         0         \n",
            " 1D)                                                             \n",
            "                                                                 \n",
            " global_max_pooling1d (Globa  (None, 16)               0         \n",
            " lMaxPooling1D)                                                  \n",
            "                                                                 \n",
            " dense (Dense)               (None, 16)                272       \n",
            "                                                                 \n",
            " dense_1 (Dense)             (None, 1)                 17        \n",
            "                                                                 \n",
            "=================================================================\n",
            "Total params: 1,825\n",
            "Trainable params: 1,825\n",
            "Non-trainable params: 0\n",
            "_________________________________________________________________\n"
          ]
        }
      ]
    },
    {
      "cell_type": "code",
      "source": [
        "history=model.fit(x_tr_features, y_tr ,epochs=10, callbacks=[model_checkpoint], \n",
        "batch_size=32, validation_data=(x_val_features,y_val))"
      ],
      "metadata": {
        "colab": {
          "base_uri": "https://localhost:8080/"
        },
        "id": "Px9ALOUd44v0",
        "outputId": "b74be681-2dff-424b-fb0e-ded1c19a24b4"
      },
      "execution_count": 14,
      "outputs": [
        {
          "output_type": "stream",
          "name": "stdout",
          "text": [
            "Epoch 1/10\n",
            "85/85 [==============================] - ETA: 0s - loss: 0.6141 - acc: 0.7379\n",
            "Epoch 00001: val_acc improved from -inf to 0.78073, saving model to best_model.hdf5\n",
            "85/85 [==============================] - 74s 857ms/step - loss: 0.6141 - acc: 0.7379 - val_loss: 0.5905 - val_acc: 0.7807\n",
            "Epoch 2/10\n",
            "85/85 [==============================] - ETA: 0s - loss: 0.4634 - acc: 0.8193\n",
            "Epoch 00002: val_acc improved from 0.78073 to 0.81395, saving model to best_model.hdf5\n",
            "85/85 [==============================] - 74s 873ms/step - loss: 0.4634 - acc: 0.8193 - val_loss: 0.4939 - val_acc: 0.8140\n",
            "Epoch 3/10\n",
            "85/85 [==============================] - ETA: 0s - loss: 0.3716 - acc: 0.8560\n",
            "Epoch 00003: val_acc improved from 0.81395 to 0.84385, saving model to best_model.hdf5\n",
            "85/85 [==============================] - 72s 851ms/step - loss: 0.3716 - acc: 0.8560 - val_loss: 0.4168 - val_acc: 0.8439\n",
            "Epoch 4/10\n",
            "85/85 [==============================] - ETA: 0s - loss: 0.3362 - acc: 0.8623\n",
            "Epoch 00004: val_acc improved from 0.84385 to 0.87043, saving model to best_model.hdf5\n",
            "85/85 [==============================] - 84s 985ms/step - loss: 0.3362 - acc: 0.8623 - val_loss: 0.3875 - val_acc: 0.8704\n",
            "Epoch 5/10\n",
            "85/85 [==============================] - ETA: 0s - loss: 0.3294 - acc: 0.8626\n",
            "Epoch 00005: val_acc improved from 0.87043 to 0.87375, saving model to best_model.hdf5\n",
            "85/85 [==============================] - 73s 854ms/step - loss: 0.3294 - acc: 0.8626 - val_loss: 0.3758 - val_acc: 0.8738\n",
            "Epoch 6/10\n",
            "85/85 [==============================] - ETA: 0s - loss: 0.3195 - acc: 0.8719\n",
            "Epoch 00006: val_acc improved from 0.87375 to 0.88040, saving model to best_model.hdf5\n",
            "85/85 [==============================] - 73s 856ms/step - loss: 0.3195 - acc: 0.8719 - val_loss: 0.3655 - val_acc: 0.8804\n",
            "Epoch 7/10\n",
            "85/85 [==============================] - ETA: 0s - loss: 0.3096 - acc: 0.8793\n",
            "Epoch 00007: val_acc did not improve from 0.88040\n",
            "85/85 [==============================] - 73s 854ms/step - loss: 0.3096 - acc: 0.8793 - val_loss: 0.3566 - val_acc: 0.8704\n",
            "Epoch 8/10\n",
            "85/85 [==============================] - ETA: 0s - loss: 0.3109 - acc: 0.8730\n",
            "Epoch 00008: val_acc did not improve from 0.88040\n",
            "85/85 [==============================] - 72s 852ms/step - loss: 0.3109 - acc: 0.8730 - val_loss: 0.3632 - val_acc: 0.8704\n",
            "Epoch 9/10\n",
            "85/85 [==============================] - ETA: 0s - loss: 0.3004 - acc: 0.8763\n",
            "Epoch 00009: val_acc improved from 0.88040 to 0.88372, saving model to best_model.hdf5\n",
            "85/85 [==============================] - 72s 850ms/step - loss: 0.3004 - acc: 0.8763 - val_loss: 0.3494 - val_acc: 0.8837\n",
            "Epoch 10/10\n",
            "85/85 [==============================] - ETA: 0s - loss: 0.3048 - acc: 0.8804\n",
            "Epoch 00010: val_acc did not improve from 0.88372\n",
            "85/85 [==============================] - 73s 853ms/step - loss: 0.3048 - acc: 0.8804 - val_loss: 0.3565 - val_acc: 0.8605\n"
          ]
        }
      ]
    },
    {
      "cell_type": "code",
      "source": [
        "model.load_weights('best_model.hdf5')"
      ],
      "metadata": {
        "id": "RV2in6sA45WY"
      },
      "execution_count": 15,
      "outputs": []
    },
    {
      "cell_type": "code",
      "source": [
        "#summarize history for loss\n",
        "plt.plot(history.history['loss'])\n",
        "plt.plot(history.history['val_loss'])\n",
        "plt.title('Model loss')\n",
        "plt.xlabel('Time')\n",
        "plt.ylabel('epoch')\n",
        "plt.legend(['train','validation'],loc = 'upper left')\n",
        "plt.show()"
      ],
      "metadata": {
        "colab": {
          "base_uri": "https://localhost:8080/",
          "height": 295
        },
        "id": "Av7E_IUJ45q-",
        "outputId": "3067faef-df78-40c2-ddca-803c465b620b"
      },
      "execution_count": 16,
      "outputs": [
        {
          "output_type": "display_data",
          "data": {
            "image/png": "[encoded data removed]",
            "text/plain": [
              "<Figure size 432x288 with 1 Axes>"
            ]
          },
          "metadata": {
            "needs_background": "light"
          }
        }
      ]
    },
    {
      "cell_type": "code",
      "source": [
        "_, acc = model.evaluate(x_val_features,y_val)\n",
        "print(\"Acurácia da Validação:\",acc)"
      ],
      "metadata": {
        "colab": {
          "base_uri": "https://localhost:8080/"
        },
        "id": "FydM87ff45zO",
        "outputId": "a9e28aea-e330-41ab-c9d0-06919f41d3e2"
      },
      "execution_count": 17,
      "outputs": [
        {
          "output_type": "stream",
          "name": "stdout",
          "text": [
            "10/10 [==============================] - 2s 203ms/step - loss: 0.3494 - acc: 0.8837\n",
            "Acurácia da Validação: 0.8837209343910217\n"
          ]
        }
      ]
    },
    {
      "cell_type": "code",
      "source": [
        "ind=35\n",
        "test_audio = x_val[ind]\n",
        "ipd.Audio(test_audio,rate=16000)\n",
        "feature = x_val_features[ind]\n",
        "prob = model.predict(feature.reshape(1,-1,1))\n",
        "if (prob[0][0] < 0.5 ):\n",
        "  pred='Emergência'\n",
        "else:\n",
        "  pred='Não Emergência'\n",
        "print(\"Predição:\",pred)"
      ],
      "metadata": {
        "colab": {
          "base_uri": "https://localhost:8080/"
        },
        "id": "4nqUlEPw5Pr8",
        "outputId": "48598ae9-6b1b-48d1-9982-11e56fc724c6"
      },
      "execution_count": 18,
      "outputs": [
        {
          "output_type": "stream",
          "name": "stdout",
          "text": [
            "Predição: Emergência\n"
          ]
        }
      ]
    },
    {
      "cell_type": "markdown",
      "source": [
        "# Usando LSTM"
      ],
      "metadata": {
        "id": "6lxdysl6zs4o"
      }
    },
    {
      "cell_type": "markdown",
      "source": [
        "Readequamos o formato do treino com 160, pois isso irá fazer com que os 3200 steps, que teríamos caso não fizessemos essa transformação, virem apenas 200, e assim podemos usá-los mais facilmente em nosso modelo."
      ],
      "metadata": {
        "id": "cje8X4HTAnrT"
      }
    },
    {
      "cell_type": "code",
      "source": [
        "x_tr_features  = x_tr.reshape(len(x_tr),-1,160)\n",
        "x_val_features = x_val.reshape(len(x_val),-1,160)\n",
        "print(\"Reshaped Array Size\",x_tr_features.shape)"
      ],
      "metadata": {
        "colab": {
          "base_uri": "https://localhost:8080/"
        },
        "id": "ZDV7wPAP5Pof",
        "outputId": "b8e98e1c-6b90-4442-b475-b040b2e27632"
      },
      "execution_count": 19,
      "outputs": [
        {
          "output_type": "stream",
          "name": "stdout",
          "text": [
            "Reshaped Array Size (2701, 200, 160)\n"
          ]
        }
      ]
    },
    {
      "cell_type": "code",
      "source": [
        "def lstm(x_tr):\n",
        "  K.clear_session()\n",
        "  inputs = Input(shape=(x_tr.shape[1],x_tr.shape[2]))\n",
        "  # Adicionando LSTM\n",
        "  x = LSTM(128)(inputs)\n",
        "  x = Dropout(0.3)(x)\n",
        "  # Adicionando as funções de ativação das camadas densas\n",
        "  x= Dense(64,activation='relu')(x)\n",
        "  x= Dense(1,activation='sigmoid')(x)\n",
        "  model = Model(inputs, x)\n",
        "  model.compile(loss='binary_crossentropy',optimizer='adam',metrics=['acc'])\n",
        "  return model\n",
        "\n",
        "model = lstm(x_tr_features)\n",
        "model.summary()"
      ],
      "metadata": {
        "colab": {
          "base_uri": "https://localhost:8080/"
        },
        "id": "47j-3j6h5Pi6",
        "outputId": "33e5cd8e-52cc-47e2-e76d-65942e0b1780"
      },
      "execution_count": 20,
      "outputs": [
        {
          "output_type": "stream",
          "name": "stdout",
          "text": [
            "Model: \"model\"\n",
            "_________________________________________________________________\n",
            " Layer (type)                Output Shape              Param #   \n",
            "=================================================================\n",
            " input_1 (InputLayer)        [(None, 200, 160)]        0         \n",
            "                                                                 \n",
            " lstm (LSTM)                 (None, 128)               147968    \n",
            "                                                                 \n",
            " dropout (Dropout)           (None, 128)               0         \n",
            "                                                                 \n",
            " dense (Dense)               (None, 64)                8256      \n",
            "                                                                 \n",
            " dense_1 (Dense)             (None, 1)                 65        \n",
            "                                                                 \n",
            "=================================================================\n",
            "Total params: 156,289\n",
            "Trainable params: 156,289\n",
            "Non-trainable params: 0\n",
            "_________________________________________________________________\n"
          ]
        }
      ]
    },
    {
      "cell_type": "code",
      "source": [
        "mc = ModelCheckpoint('best_model.hdf5', monitor='val_acc', verbose=1,\n",
        "                     save_best_only=True, mode='max')"
      ],
      "metadata": {
        "id": "DwQbYZGz5PaL"
      },
      "execution_count": 21,
      "outputs": []
    },
    {
      "cell_type": "code",
      "source": [
        "history = model.fit(x_tr_features, y_tr, epochs=10, callbacks=[mc], batch_size=32, \n",
        "                    validation_data=(x_val_features,y_val))"
      ],
      "metadata": {
        "colab": {
          "base_uri": "https://localhost:8080/"
        },
        "id": "jbarAf3b0bbt",
        "outputId": "f3f71059-91d2-43cd-c925-859b58a89e63"
      },
      "execution_count": 22,
      "outputs": [
        {
          "output_type": "stream",
          "name": "stdout",
          "text": [
            "Epoch 1/10\n",
            "85/85 [==============================] - ETA: 0s - loss: 0.6924 - acc: 0.5628\n",
            "Epoch 00001: val_acc improved from -inf to 0.57475, saving model to best_model.hdf5\n",
            "85/85 [==============================] - 25s 261ms/step - loss: 0.6924 - acc: 0.5628 - val_loss: 0.6808 - val_acc: 0.5748\n",
            "Epoch 2/10\n",
            "85/85 [==============================] - ETA: 0s - loss: 0.6244 - acc: 0.6638\n",
            "Epoch 00002: val_acc improved from 0.57475 to 0.74751, saving model to best_model.hdf5\n",
            "85/85 [==============================] - 21s 249ms/step - loss: 0.6244 - acc: 0.6638 - val_loss: 0.5359 - val_acc: 0.7475\n",
            "Epoch 3/10\n",
            "85/85 [==============================] - ETA: 0s - loss: 0.5985 - acc: 0.6868\n",
            "Epoch 00003: val_acc did not improve from 0.74751\n",
            "85/85 [==============================] - 21s 252ms/step - loss: 0.5985 - acc: 0.6868 - val_loss: 0.7097 - val_acc: 0.6711\n",
            "Epoch 4/10\n",
            "85/85 [==============================] - ETA: 0s - loss: 0.6444 - acc: 0.6357\n",
            "Epoch 00004: val_acc did not improve from 0.74751\n",
            "85/85 [==============================] - 21s 248ms/step - loss: 0.6444 - acc: 0.6357 - val_loss: 0.6377 - val_acc: 0.6445\n",
            "Epoch 5/10\n",
            "85/85 [==============================] - ETA: 0s - loss: 0.6372 - acc: 0.6483\n",
            "Epoch 00005: val_acc did not improve from 0.74751\n",
            "85/85 [==============================] - 21s 253ms/step - loss: 0.6372 - acc: 0.6483 - val_loss: 0.6333 - val_acc: 0.6478\n",
            "Epoch 6/10\n",
            "85/85 [==============================] - ETA: 0s - loss: 0.6326 - acc: 0.6416\n",
            "Epoch 00006: val_acc did not improve from 0.74751\n",
            "85/85 [==============================] - 21s 249ms/step - loss: 0.6326 - acc: 0.6416 - val_loss: 0.6165 - val_acc: 0.6512\n",
            "Epoch 7/10\n",
            "85/85 [==============================] - ETA: 0s - loss: 0.6221 - acc: 0.6527\n",
            "Epoch 00007: val_acc did not improve from 0.74751\n",
            "85/85 [==============================] - 21s 253ms/step - loss: 0.6221 - acc: 0.6527 - val_loss: 0.6013 - val_acc: 0.6944\n",
            "Epoch 8/10\n",
            "85/85 [==============================] - ETA: 0s - loss: 0.6297 - acc: 0.6627\n",
            "Epoch 00008: val_acc did not improve from 0.74751\n",
            "85/85 [==============================] - 22s 257ms/step - loss: 0.6297 - acc: 0.6627 - val_loss: 0.6076 - val_acc: 0.6678\n",
            "Epoch 9/10\n",
            "85/85 [==============================] - ETA: 0s - loss: 0.5199 - acc: 0.7534\n",
            "Epoch 00009: val_acc improved from 0.74751 to 0.82392, saving model to best_model.hdf5\n",
            "85/85 [==============================] - 21s 247ms/step - loss: 0.5199 - acc: 0.7534 - val_loss: 0.4038 - val_acc: 0.8239\n",
            "Epoch 10/10\n",
            "85/85 [==============================] - ETA: 0s - loss: 0.4383 - acc: 0.8156\n",
            "Epoch 00010: val_acc did not improve from 0.82392\n",
            "85/85 [==============================] - 21s 249ms/step - loss: 0.4383 - acc: 0.8156 - val_loss: 0.4340 - val_acc: 0.8140\n"
          ]
        }
      ]
    },
    {
      "cell_type": "code",
      "source": [
        "model.load_weights('best_model.hdf5')"
      ],
      "metadata": {
        "id": "FXliMlR50bYU"
      },
      "execution_count": 23,
      "outputs": []
    },
    {
      "cell_type": "code",
      "source": [
        "# Histórico para a loss\n",
        "plt.plot(history.history['loss'])\n",
        "plt.plot(history.history['val_loss'])\n",
        "plt.title('Modelo loss')\n",
        "plt.xlabel('Tempo')\n",
        "plt.ylabel('epoca')\n",
        "plt.legend(['treino','validacao'],loc = 'upper left')\n",
        "plt.show()"
      ],
      "metadata": {
        "colab": {
          "base_uri": "https://localhost:8080/",
          "height": 295
        },
        "id": "mo7iDZdx0bVv",
        "outputId": "03b35497-b670-4cf2-9ece-0c298a310de2"
      },
      "execution_count": 24,
      "outputs": [
        {
          "output_type": "display_data",
          "data": {
            "image/png": "[encoded data removed]",
            "text/plain": [
              "<Figure size 432x288 with 1 Axes>"
            ]
          },
          "metadata": {
            "needs_background": "light"
          }
        }
      ]
    },
    {
      "cell_type": "code",
      "source": [
        "_,acc = model.evaluate(x_val_features,y_val)\n",
        "print(\"Acurácia:\",acc)"
      ],
      "metadata": {
        "colab": {
          "base_uri": "https://localhost:8080/"
        },
        "id": "v5oCmeB50bTD",
        "outputId": "f15bf71c-091b-4f5c-baa3-c7c14bb2555b"
      },
      "execution_count": 25,
      "outputs": [
        {
          "output_type": "stream",
          "name": "stdout",
          "text": [
            "10/10 [==============================] - 1s 75ms/step - loss: 0.4038 - acc: 0.8239\n",
            "Acurácia: 0.8239202499389648\n"
          ]
        }
      ]
    },
    {
      "cell_type": "markdown",
      "source": [
        "Observando as curvas de loss da CNN e da LSTM, podemos perceber que o modelo utilizando a CNN tem uma curva de loss mais suave do que a LSTM, e isso pode contribuir para termos uma ideia melhor da previsibilidade do modelo, já que sua curva tem um comportamento tendendo a algo mais \"prevísivel\"."
      ],
      "metadata": {
        "id": "yt0BEFGi9o_z"
      }
    }
  ]
}